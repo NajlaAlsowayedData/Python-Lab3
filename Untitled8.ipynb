{
 "cells": [
  {
   "cell_type": "code",
   "execution_count": null,
   "id": "a61b4f8d",
   "metadata": {
    "scrolled": true
   },
   "outputs": [
    {
     "name": "stdout",
     "output_type": "stream",
     "text": [
      "What is the product of 7 * 24 ? 200\n",
      "Your answer is wrong, try again! \n"
     ]
    }
   ],
   "source": [
    " while True:\n",
    "    MultiplyNumber = int(input ('What is the product of 7 * 24 ? '))\n",
    "    if MultiplyNumber == 7 * 24 :\n",
    "        print (\"You answered this question correctly! \")\n",
    "        break\n",
    "    else :\n",
    "        print(\"Your answer is wrong, try again! \")"
   ]
  },
  {
   "cell_type": "code",
   "execution_count": null,
   "id": "a9b38c3d",
   "metadata": {},
   "outputs": [],
   "source": [
    "for RangeNumbers in range(45, 210):\n",
    "    if RangeNumbers == 100 :\n",
    "        continue \n",
    "    if RangeNumbers == 205 :\n",
    "        break \n",
    "    print(RangeNumbers)\n",
    "     "
   ]
  },
  {
   "cell_type": "code",
   "execution_count": null,
   "id": "7b59aa30",
   "metadata": {},
   "outputs": [],
   "source": []
  }
 ],
 "metadata": {
  "kernelspec": {
   "display_name": "Python 3 (ipykernel)",
   "language": "python",
   "name": "python3"
  },
  "language_info": {
   "codemirror_mode": {
    "name": "ipython",
    "version": 3
   },
   "file_extension": ".py",
   "mimetype": "text/x-python",
   "name": "python",
   "nbconvert_exporter": "python",
   "pygments_lexer": "ipython3",
   "version": "3.10.9"
  }
 },
 "nbformat": 4,
 "nbformat_minor": 5
}
